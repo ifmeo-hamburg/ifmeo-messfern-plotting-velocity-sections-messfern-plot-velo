{
 "cells": [
  {
   "cell_type": "markdown",
   "id": "97a567f5-3223-41c4-86a2-76c5742edf80",
   "metadata": {},
   "source": [
    "# Exercise 3: Velocity\n",
    "\n",
    "Aim: To work with velocity data and plot a section\n",
    "\n",
    "- Author: XX YOUR NAME XX\n",
    "- Purpose: Plot velocity data\n",
    "- Date: YYYY-MM-DD\n",
    "\n",
    "Four figures should be generated:\n",
    "\n",
    "Packages: You will need to install the package `scipy`\n",
    "\n",
    "The first time you run through this, \n",
    "<hr>"
   ]
  },
  {
   "cell_type": "code",
   "execution_count": null,
   "id": "13d272b1-8fdb-49de-864f-3974d675d014",
   "metadata": {},
   "outputs": [],
   "source": [
    "# Importing required packages here\n",
    "import matplotlib.pyplot as plt\n",
    "import numpy as np\n",
    "import xarray as xr\n",
    "import os\n",
    "import netCDF4\n",
    "import cmocean\n",
    "import cartopy.crs as ccrs\n",
    "import cartopy.feature as cfeature\n",
    "import matplotlib.dates as mdates\n",
    "from matplotlib.ticker import ScalarFormatter\n",
    "from modules.bathymetry import *\n",
    "from scipy import io\n",
    "\n"
   ]
  },
  {
   "cell_type": "code",
   "execution_count": null,
   "id": "13d357b8",
   "metadata": {},
   "outputs": [],
   "source": [
    "# Set some paths\n",
    "# Root directory - change this to the directory where you are working.\n",
    "rootdir = '/Users/eddifying/Cloudfree/gitlab-cloudfree/messfern-plot-velo/'\n",
    "#rootdir = 'C:\\\\Users\\\\Edward\\\\Documents\\\\GitHub\\\\messfern-plot-velo\\\\'\n",
    "os.chdir(rootdir)\n",
    "datadir = rootdir + 'data/'\n",
    "\n",
    "# Output file paths for figures\n",
    "figdir = '../figures/'\n",
    "if not os.path.exists(figdir):\n",
    "    os.makedirs(figdir)"
   ]
  },
  {
   "cell_type": "markdown",
   "id": "c0cdd4ae",
   "metadata": {},
   "source": [
    "# Load the bathymetry data\n",
    "\n",
    "[ ] Check the code from last week to see how to do this\n"
   ]
  },
  {
   "cell_type": "code",
   "execution_count": null,
   "id": "47870f9f-8f47-4804-bed8-072fdfbb6f12",
   "metadata": {
    "vscode": {
     "languageId": "markdown"
    }
   },
   "outputs": [],
   "source": [
    "# Load the bathymetry data\n",
    "bathymetry_data_path = datadir + 'bathymetry_subset.nc'\n",
    "\n",
    "# Add your line of code here\n",
    "\n",
    "# Print the bathymetry data to verify\n",
    "#print(bathymetry_data)"
   ]
  },
  {
   "cell_type": "markdown",
   "id": "c3437831",
   "metadata": {},
   "source": [
    "# Load the velocity data"
   ]
  },
  {
   "cell_type": "code",
   "execution_count": null,
   "id": "c0d646c8",
   "metadata": {},
   "outputs": [],
   "source": [
    "# Load the velocity data from a Matlab file\n",
    "\"\"\"\n",
    "This script loads velocity data from a Matlab file and extracts specific variables.\n",
    "\n",
    "Steps:\n",
    "1. Constructs the file path to the Matlab file.\n",
    "2. Loads the Matlab file using scipy.io.loadmat.\n",
    "3. Prints the keys of the loaded data to understand its structure.\n",
    "4. Extracts latitude, longitude, depth, time, u, and v from the dataset.\n",
    "\n",
    "Variables:\n",
    "- inputfile: Path to the Matlab file.\n",
    "- adcp_data: Dictionary containing the loaded Matlab data.\n",
    "- ds: Dataset extracted from the Matlab data.\n",
    "- latitude: Latitude data extracted from the dataset.\n",
    "- longitude: Longitude data extracted from the dataset.\n",
    "- depth: Depth data extracted from the dataset.\n",
    "- time: Time data extracted from the dataset.\n",
    "- u: U-component of velocity extracted from the dataset.\n",
    "- v: V-component of velocity extracted from the dataset.\n",
    "\n",
    "Note:\n",
    "- The [0][0] indexing is used to access the first element of the nested arrays within the dataset.\n",
    "\"\"\"\n",
    "inputfile = os.path.join(datadir, 'adcp_DS_msm76.mat')\n",
    "\n",
    "# Load the Matlab file\n",
    "adcp_data = io.loadmat(inputfile)\n",
    "\n",
    "# Print the keys of the loaded data to understand its structure\n",
    "print(adcp_data.keys())\n",
    "ds = adcp_data['ds']\n",
    "\n",
    "# Extract latitude from ds\n",
    "\n",
    "latitude = ds['lat'][0][0]\n",
    "longitude = ds['lon'][0][0]\n",
    "depth = ds['dep'][0][0]\n",
    "time = ds['time'][0][0]\n",
    "u = ds['u'][0][0]\n",
    "v = ds['v'][0][0]\n",
    "\n",
    "print(f\"Size of latitude: {latitude.size}\")\n",
    "print(f\"Size of longitude: {longitude.size}\")\n",
    "print(f\"Size of depth: {depth.size}\")\n",
    "print(f\"Size of time: {time.size}\")\n",
    "print(f\"Size of u: {u.size}\")\n",
    "print(f\"Size of v: {v.size}\")\n",
    "\n",
    "# Flatten the time, depth, latitude, and longitude arrays\n",
    "time = time.flatten()\n",
    "\n",
    "# Convert MATLAB time to datetime64[s]\n",
    "# This one is incorrect\n",
    "time_intdays = np.array([np.datetime64('0000-01-01') + np.timedelta64(int(t), 'D') for t in time])\n",
    "# This one is correct\n",
    "time = np.array([np.datetime64('0000-01-01') + np.timedelta64(int(t * 86400), 's') for t in time])\n",
    "\n",
    "depth = depth.flatten()\n",
    "latitude = latitude.flatten()\n",
    "longitude = longitude.flatten()\n",
    "\n",
    "# Turn u into a two dimensional array with length(time) and length(depth)\n",
    "u = u.reshape(len(depth),len(time))\n",
    "v = v.reshape(len(depth),len(time))\n",
    "\n"
   ]
  },
  {
   "cell_type": "markdown",
   "id": "72570487",
   "metadata": {},
   "source": [
    "# Check the original time format\n",
    "\n",
    "Since we're loading data from a `*.mat` file, it's useful to know that matlab stores time in units of days since 0000-00-00 T 00:00:00 (YYYY-MM-DD T HH:MM:SS).  \n",
    "\n",
    "Python has a lot of different ways to store time, but in `xarray` it's convenient to use `datetime64`.  Plotting routines know how to handle this data format, and will create nicely formatted time axes.\n"
   ]
  },
  {
   "cell_type": "markdown",
   "id": "ce34dc46",
   "metadata": {},
   "source": [
    "## Features of this plot\n",
    "\n",
    "- We've use the function `ax.twinx()` to create a plot with two y-axes.  Here, we're doing it to show the equivalent between the two time variables.\n"
   ]
  },
  {
   "cell_type": "code",
   "execution_count": null,
   "id": "a5eadd1a",
   "metadata": {},
   "outputs": [],
   "source": [
    "# Plot the original and the new time as a function of index on two separate axes\n",
    "fig, ax1 = plt.subplots(figsize=(15, 5))\n",
    "\n",
    "# Plot original time\n",
    "ax1.plot(range(len(time)), adcp_data['ds']['time'][0][0].flatten(), label='Original Time', color='blue')\n",
    "ax1.set_xlabel('Index')\n",
    "ax1.set_ylabel('Matlab Time', color='blue')\n",
    "ax1.tick_params(axis='y', labelcolor='blue')\n",
    "\n",
    "# Create a second y-axis to plot new time and time_intdays\n",
    "ax2 = ax1.twinx()\n",
    "ax2.plot(range(len(time)), time, '-.', label='New Time', color='red')\n",
    "ax2.plot(range(len(time_intdays)), time_intdays, '--', label='Time in Days', color='green')\n",
    "\n",
    "ax2.set_ylabel('New Time', color='red')\n",
    "ax2.tick_params(axis='y', labelcolor='red')\n",
    "\n",
    "# Format the new time axis to show DD-MMM-YYYY\n",
    "ax2.yaxis.set_major_formatter(mdates.DateFormatter('%d-%b-%Y %H:%M'))\n",
    "\n",
    "# These next steps are complicated.  See how by running them (change 0 to 1, where 0 means FALSE and 1 means TRUE)\n",
    "if 0:\n",
    "    # Set y-axis limits to tight for both axes\n",
    "    ax2.set_ylim(time_intdays.min(), time.max())\n",
    "    # Convert the new time limits back to MATLAB time format\n",
    "    new_time_min = (time_intdays.min() - np.datetime64('0000-01-01')) / np.timedelta64(1, 'D')\n",
    "    new_time_max = (time.max() - np.datetime64('0000-01-01')) / np.timedelta64(1, 'D')\n",
    "    # Set y-axis limits for the original time axis\n",
    "    ax1.set_ylim(new_time_min, new_time_max)\n",
    "\n",
    "# Set title\n",
    "fig.suptitle('Original and New Time as a function of Index')\n",
    "\n",
    "# Add legends\n",
    "fig.legend(loc='upper right')\n",
    "\n",
    "# Show the plot\n",
    "plt.show()\n",
    "\n",
    "# save the plot\n",
    "plt.savefig(figdir + 'ex3fig1-Lastname-timeformat.png')"
   ]
  },
  {
   "cell_type": "markdown",
   "id": "9e716ee4",
   "metadata": {},
   "source": [
    "# Optional: Convert the data into xarray and save "
   ]
  },
  {
   "cell_type": "code",
   "execution_count": null,
   "id": "f6203ce4",
   "metadata": {},
   "outputs": [],
   "source": [
    "# Create a new xarray dataset\n",
    "ds = xr.Dataset(\n",
    "    {\n",
    "        'u': (( 'depth', 'time'), u),\n",
    "        'v': (( 'depth', 'time'), v),\n",
    "    },\n",
    "    coords={\n",
    "        'time': time,\n",
    "        'depth': depth,\n",
    "        'latitude': latitude,\n",
    "        'longitude': longitude,\n",
    "    },\n",
    ")\n",
    "\n",
    "# Define the output path for the NetCDF file\n",
    "output_path = os.path.join(datadir, 'adcp_DS_msm76.nc')\n",
    "\n",
    "# Write the dataset to a NetCDF file\n",
    "ds.to_netcdf(output_path)\n",
    "\n",
    "print(f\"ADCP data written to {output_path}\")"
   ]
  },
  {
   "cell_type": "markdown",
   "id": "936ad3be-712e-4d13-9ba0-2cb1705b7ac5",
   "metadata": {},
   "source": [
    "## Make a simple plot"
   ]
  },
  {
   "cell_type": "markdown",
   "id": "0c5c5997-535c-47dd-9eea-6ce8520c68c1",
   "metadata": {},
   "source": [
    "### Using Matplotlib, plot velocity\n",
    "\n",
    "[ ] In the following, can you change the date format on the x-axis to be something more understandable?  What year, month, day, hour are the data from?"
   ]
  },
  {
   "cell_type": "code",
   "execution_count": null,
   "id": "bbf42705-d069-43e5-b62e-47737ab8c0f2",
   "metadata": {},
   "outputs": [],
   "source": [
    "# Initialize the figure and axes\n",
    "fig, (ax1, ax2) = plt.subplots(2, 1, figsize=(15, 10), sharex=True)\n",
    "\n",
    "# Plot u velocity\n",
    "c1 = ax1.contourf(time, depth, u, cmap='RdBu_r', levels=np.linspace(-1, 1, 21))\n",
    "fig.colorbar(c1, ax=ax1, orientation='vertical', label='u velocity (m/s)')\n",
    "ax1.set_ylabel('Depth (m)')\n",
    "ax1.set_title('u velocity as a function of time and depth')\n",
    "ax1.invert_yaxis()\n",
    "\n",
    "# Plot v velocity\n",
    "c2 = ax2.contourf(time, depth, v, cmap='RdBu_r', levels=np.linspace(-1, 1, 21))\n",
    "fig.colorbar(c2, ax=ax2, orientation='vertical', label='v velocity (m/s)')\n",
    "ax2.set_xlabel('Time')\n",
    "ax2.set_ylabel('Depth (m)')\n",
    "ax2.set_title('v velocity as a function of time and depth')\n",
    "ax2.invert_yaxis()\n",
    "\n",
    "# Set y-axis limits\n",
    "ax1.set_ylim(600, 0)\n",
    "ax2.set_ylim(600, 0)\n",
    "\n",
    "# Set x-axis limits to match the range of the time variable\n",
    "ax1.set_xlim(time.min(), time.max())\n",
    "ax2.set_xlim(time.min(), time.max())\n",
    "\n",
    "# Save the figure\n",
    "plt.savefig(figdir + 'ex3fig1_LastName-velocity_section.png')\n",
    "plt.show()\n"
   ]
  },
  {
   "cell_type": "markdown",
   "id": "bdef82b1",
   "metadata": {},
   "source": [
    "# Now let's figure out where the data are located\n",
    "\n",
    "The variables latitude and longitude were plotted so let's take a look at those"
   ]
  },
  {
   "cell_type": "code",
   "execution_count": null,
   "id": "13c98566",
   "metadata": {},
   "outputs": [],
   "source": [
    "# Initialize the figure and axes\n",
    "fig, ax1 = plt.subplots(figsize=(15, 5))\n",
    "\n",
    "# Plot latitude as a function of time\n",
    "ax1.plot(time, latitude, label='Latitude', color='blue')\n",
    "ax1.set_xlabel('Time')\n",
    "ax1.set_ylabel('Latitude', color='blue')\n",
    "ax1.tick_params(axis='y', labelcolor='blue')\n",
    "\n",
    "# Create a second y-axis to plot longitude\n",
    "ax2 = ax1.twinx()\n",
    "ax2.plot(time, longitude, label='Longitude', color='red')\n",
    "ax2.set_ylabel('Longitude', color='red')\n",
    "ax2.tick_params(axis='y', labelcolor='red')\n",
    "\n",
    "# Set title\n",
    "fig.suptitle('Latitude and Longitude as a function of Time')\n",
    "\n",
    "# Add legends\n",
    "fig.legend(loc='upper right')\n",
    "\n",
    "# Show the plot\n",
    "plt.show()\n",
    "\n"
   ]
  },
  {
   "cell_type": "markdown",
   "id": "2e35539f-2fce-42c7-aa41-0bb8b4f879a2",
   "metadata": {},
   "source": [
    "### Plot a map using cartopy\n",
    "\n",
    "- [ ] Update the plot below to add the bathymetry, contoured using the colormap cmap='cmo.deep'.\n",
    "\n",
    "- [ ] Add a colorbar, experimenting with position using commands like\n",
    "\n",
    "    cbar = plt.colorbar(contour, ax=ax, orientation='vertical', fraction=0.01, pad=0.04, aspect=30)\n",
    "    cbar.set_label('Bathymetry (m)')\n",
    "    cbar.ax.set_position([0.95, 0.5, 0.2, 0.5])\n",
    "\n",
    "- [ ] Change the extent of the map to match the minimum and maximum values in the bathymetry subset\n",
    "\n",
    "    min_lon_bathy = bathymetry_subset.lon.min().item()\n"
   ]
  },
  {
   "cell_type": "code",
   "execution_count": null,
   "id": "f42a3409",
   "metadata": {},
   "outputs": [],
   "source": [
    "# Define the coordinates for the section\n",
    "section_lat = [latitude[0], latitude[-1]]\n",
    "section_lon = [longitude[0], longitude[-1]]\n",
    "\n",
    "# Initialize the figure and axis with Cartopy projection\n",
    "fig = plt.figure(figsize=(10, 10))\n",
    "ax = plt.axes(projection=ccrs.PlateCarree())\n",
    "\n",
    "# Add coastlines and gridlines\n",
    "ax.coastlines()\n",
    "ax.gridlines(draw_labels=True)\n",
    "\n",
    "# Plot the section line\n",
    "ax.plot(section_lon, section_lat, color='red', marker='o', transform=ccrs.PlateCarree(), label='Section')\n",
    "\n",
    "# Add a legend\n",
    "plt.legend()\n",
    "\n",
    "# Set the extent of the map\n",
    "ax.set_extent([-31.5, -22.5, 63, 68])\n",
    "\n",
    "\n",
    "# Add features\n",
    "ax.add_feature(cfeature.LAND)\n",
    "ax.add_feature(cfeature.OCEAN)\n",
    "ax.add_feature(cfeature.COASTLINE)\n",
    "ax.add_feature(cfeature.BORDERS, linestyle=':')\n",
    "ax.add_feature(cfeature.LAKES, alpha=0.5)\n",
    "ax.add_feature(cfeature.RIVERS)\n",
    "\n",
    "# Save the figure\n",
    "plt.savefig(figdir + 'ex3fig2-Lastname-location.png')\n",
    "plt.show()\n"
   ]
  },
  {
   "cell_type": "markdown",
   "id": "aa8b4920",
   "metadata": {},
   "source": [
    "## More complicated\n",
    "\n",
    "using the Gibbs Seawater toolbox (`import gsw`), calculate the distance along the section.\n",
    "\n",
    "Redo the plots of velocity as a function of distance instead of time."
   ]
  },
  {
   "cell_type": "code",
   "execution_count": null,
   "id": "338c1452",
   "metadata": {},
   "outputs": [],
   "source": []
  }
 ],
 "metadata": {
  "kernelspec": {
   "display_name": "Python 3",
   "language": "python",
   "name": "python3"
  },
  "language_info": {
   "codemirror_mode": {
    "name": "ipython",
    "version": 3
   },
   "file_extension": ".py",
   "mimetype": "text/x-python",
   "name": "python",
   "nbconvert_exporter": "python",
   "pygments_lexer": "ipython3",
   "version": "3.13.0"
  }
 },
 "nbformat": 4,
 "nbformat_minor": 5
}
